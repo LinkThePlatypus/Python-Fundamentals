{
 "cells": [
  {
   "cell_type": "code",
   "execution_count": 1,
   "id": "b64a9bfe-5ecc-42ff-b3a8-48dea805297a",
   "metadata": {},
   "outputs": [],
   "source": [
    "Continuation with string datatype:"
   ]
  },
  {
   "cell_type": "code",
   "execution_count": null,
   "id": "3a23518e-2571-4a74-837b-edff0ada88d3",
   "metadata": {},
   "outputs": [],
   "source": []
  },
  {
   "cell_type": "code",
   "execution_count": 2,
   "id": "910131e3-bc10-4eb2-8607-56223ef9f768",
   "metadata": {},
   "outputs": [],
   "source": [
    "Introduction to f strings **"
   ]
  },
  {
   "cell_type": "code",
   "execution_count": null,
   "id": "d53da605-5dd9-466a-a2ee-00340902f170",
   "metadata": {},
   "outputs": [],
   "source": []
  },
  {
   "cell_type": "code",
   "execution_count": 4,
   "id": "03c734b4-4581-42e7-8135-566cf0b4c095",
   "metadata": {},
   "outputs": [],
   "source": [
    "firstname = 'ram'\n",
    "lastname = 'kumar'"
   ]
  },
  {
   "cell_type": "code",
   "execution_count": null,
   "id": "df899284-fd7f-4c73-ab19-5335bea99718",
   "metadata": {},
   "outputs": [],
   "source": [
    "#req : i want to get the fullname......?"
   ]
  },
  {
   "cell_type": "code",
   "execution_count": 3,
   "id": "7dbe9343-4cca-4ba4-979d-75fe2d2fcbb1",
   "metadata": {},
   "outputs": [],
   "source": [
    "#general syntax of f strings"
   ]
  },
  {
   "cell_type": "code",
   "execution_count": null,
   "id": "022293a9-15ab-4c54-a56d-91c7326dcbaa",
   "metadata": {},
   "outputs": [],
   "source": [
    "f\"custom message {variable_name1}{variable_name2}\""
   ]
  },
  {
   "cell_type": "code",
   "execution_count": 5,
   "id": "85e25bb1-b9e6-4c36-84ca-049d3da20cbe",
   "metadata": {},
   "outputs": [
    {
     "name": "stdout",
     "output_type": "stream",
     "text": [
      "ram kumar\n"
     ]
    }
   ],
   "source": [
    "fullname = f\"{firstname} {lastname}\"\n",
    "\n",
    "print(fullname)"
   ]
  },
  {
   "cell_type": "code",
   "execution_count": 7,
   "id": "f6fc463d-23fa-4fdc-ab60-dc60c04583fb",
   "metadata": {},
   "outputs": [
    {
     "name": "stdout",
     "output_type": "stream",
     "text": [
      "Ram Kumar\n"
     ]
    }
   ],
   "source": [
    "print(fullname.title())"
   ]
  },
  {
   "cell_type": "code",
   "execution_count": null,
   "id": "ea9f362c-c7b0-40af-b192-1fbe26909768",
   "metadata": {},
   "outputs": [],
   "source": [
    "message = f\"Keep up the good work,{fullname.title()}\""
   ]
  },
  {
   "cell_type": "code",
   "execution_count": 12,
   "id": "842fd8a6-5c0e-4c7a-b95a-a2ee3c4aa929",
   "metadata": {},
   "outputs": [
    {
     "name": "stdout",
     "output_type": "stream",
     "text": [
      "Keep up the good work,Ram Kumar\n"
     ]
    }
   ],
   "source": [
    "print(message)"
   ]
  },
  {
   "cell_type": "code",
   "execution_count": null,
   "id": "a25468a8-9177-412b-86ee-1f6c1fcbd961",
   "metadata": {},
   "outputs": [],
   "source": []
  },
  {
   "cell_type": "code",
   "execution_count": null,
   "id": "43dba756-54cd-462c-9895-87d555620fd2",
   "metadata": {},
   "outputs": [],
   "source": [
    "adding whitespaces to strings :"
   ]
  },
  {
   "cell_type": "code",
   "execution_count": 17,
   "id": "e0cdb881-31ad-40c5-8065-1f9f82c98bed",
   "metadata": {},
   "outputs": [
    {
     "name": "stdout",
     "output_type": "stream",
     "text": [
      "favorite_language:PythonCjavac++swiftjavascript\n"
     ]
    }
   ],
   "source": [
    "print(\"favorite_language:PythonCjavac++swiftjavascript\")"
   ]
  },
  {
   "cell_type": "code",
   "execution_count": 18,
   "id": "23759566-4715-4b74-88c5-edd8ca780f7f",
   "metadata": {},
   "outputs": [
    {
     "name": "stdout",
     "output_type": "stream",
     "text": [
      "favorite_language:Python\n",
      "C\n",
      "java\n",
      "c++\n",
      "swift\n",
      "javascript\n"
     ]
    }
   ],
   "source": [
    "print(\"favorite_language:Python\\nC\\njava\\nc++\\nswift\\njavascript\") #\\n ----> new line delimiter"
   ]
  },
  {
   "cell_type": "code",
   "execution_count": 19,
   "id": "3c00115e-3743-4bb4-9fd6-806be59cb7be",
   "metadata": {},
   "outputs": [
    {
     "name": "stdout",
     "output_type": "stream",
     "text": [
      "favorite_language:Python\n",
      "\tC\n",
      "\tjava\n",
      "\tc++\n",
      "\tswift\n",
      "\tjavascript\n"
     ]
    }
   ],
   "source": [
    "print(\"favorite_language:Python\\n\\tC\\n\\tjava\\n\\tc++\\n\\tswift\\n\\tjavascript\") #\\t ----> tab delimiter"
   ]
  },
  {
   "cell_type": "code",
   "execution_count": null,
   "id": "6389c723-5355-4e37-81e7-6e0190f999ca",
   "metadata": {},
   "outputs": [],
   "source": [
    "Removing whitespaces from the strings:"
   ]
  },
  {
   "cell_type": "code",
   "execution_count": null,
   "id": "cd572a99-02bc-4b08-8d83-29fc7546f564",
   "metadata": {},
   "outputs": [],
   "source": []
  },
  {
   "cell_type": "code",
   "execution_count": 13,
   "id": "0ce09776-ed55-45a9-a6e2-67a2e2ff7e56",
   "metadata": {},
   "outputs": [
    {
     "name": "stdout",
     "output_type": "stream",
     "text": [
      "python\n"
     ]
    }
   ],
   "source": [
    "name = \"python\"\n",
    "\n",
    "print(name)"
   ]
  },
  {
   "cell_type": "code",
   "execution_count": 14,
   "id": "a02da7f7-d44d-44b2-9488-f2136be3b45e",
   "metadata": {},
   "outputs": [
    {
     "name": "stdout",
     "output_type": "stream",
     "text": [
      "  python\n"
     ]
    }
   ],
   "source": [
    "name2=\"  python\"\n",
    "print(name2)"
   ]
  },
  {
   "cell_type": "code",
   "execution_count": 15,
   "id": "72eccfab-36a9-452b-bc63-3800972168a9",
   "metadata": {},
   "outputs": [
    {
     "name": "stdout",
     "output_type": "stream",
     "text": [
      "python  \n"
     ]
    }
   ],
   "source": [
    "name3=\"python  \"\n",
    "\n",
    "print(name3)"
   ]
  },
  {
   "cell_type": "code",
   "execution_count": 16,
   "id": "35c33db8-e55e-4c96-9129-91ed31307bc4",
   "metadata": {},
   "outputs": [
    {
     "data": {
      "text/plain": [
       "'python'"
      ]
     },
     "execution_count": 16,
     "metadata": {},
     "output_type": "execute_result"
    }
   ],
   "source": [
    "name.lstrip()"
   ]
  },
  {
   "cell_type": "code",
   "execution_count": 20,
   "id": "9132923e-5e79-4c12-bfb3-ad109089f9d7",
   "metadata": {},
   "outputs": [
    {
     "data": {
      "text/plain": [
       "'python'"
      ]
     },
     "execution_count": 20,
     "metadata": {},
     "output_type": "execute_result"
    }
   ],
   "source": [
    "name3.rstrip()"
   ]
  },
  {
   "cell_type": "code",
   "execution_count": 21,
   "id": "d63bff2e-0980-4d55-b0d1-1efbe8bd3a4d",
   "metadata": {},
   "outputs": [
    {
     "name": "stdout",
     "output_type": "stream",
     "text": [
      "  python  \n"
     ]
    }
   ],
   "source": [
    "name4= '  python  '\n",
    "\n",
    "print(name4)"
   ]
  },
  {
   "cell_type": "code",
   "execution_count": 22,
   "id": "360cde3f-6ab1-4844-84a0-68391d9b69bc",
   "metadata": {},
   "outputs": [
    {
     "data": {
      "text/plain": [
       "'python'"
      ]
     },
     "execution_count": 22,
     "metadata": {},
     "output_type": "execute_result"
    }
   ],
   "source": [
    "name4.strip() #Removes starting empty spaces"
   ]
  },
  {
   "cell_type": "code",
   "execution_count": 23,
   "id": "4aa267b0-fdfe-44ba-b06f-a6a9d9efe676",
   "metadata": {},
   "outputs": [
    {
     "data": {
      "text/plain": [
       "'python  '"
      ]
     },
     "execution_count": 23,
     "metadata": {},
     "output_type": "execute_result"
    }
   ],
   "source": [
    "name4.lstrip() #Removes starting empty spaces"
   ]
  },
  {
   "cell_type": "code",
   "execution_count": 24,
   "id": "91233201-e392-43ff-ad44-dc0a831b406d",
   "metadata": {},
   "outputs": [
    {
     "data": {
      "text/plain": [
       "'  python'"
      ]
     },
     "execution_count": 24,
     "metadata": {},
     "output_type": "execute_result"
    }
   ],
   "source": [
    "name4.rstrip() #Removes ending empty spaces"
   ]
  },
  {
   "cell_type": "code",
   "execution_count": 26,
   "id": "744be36b-f6e8-4e6e-8bed-da9e28354a5d",
   "metadata": {},
   "outputs": [
    {
     "name": "stdout",
     "output_type": "stream",
     "text": [
      "  ramesh  suresh  \n"
     ]
    }
   ],
   "source": [
    "test=\"  ramesh  suresh  \"\n",
    "print(test)"
   ]
  },
  {
   "cell_type": "code",
   "execution_count": 27,
   "id": "c241c8e0-8fd4-46c9-bfbf-2fc3c339e14b",
   "metadata": {},
   "outputs": [
    {
     "data": {
      "text/plain": [
       "'ramesh  suresh'"
      ]
     },
     "execution_count": 27,
     "metadata": {},
     "output_type": "execute_result"
    }
   ],
   "source": [
    "test.strip()"
   ]
  },
  {
   "cell_type": "code",
   "execution_count": 28,
   "id": "a1624da3-d0ea-44ca-bf1e-18f60ff5e6b5",
   "metadata": {},
   "outputs": [
    {
     "data": {
      "text/plain": [
       "'ramesh  suresh  '"
      ]
     },
     "execution_count": 28,
     "metadata": {},
     "output_type": "execute_result"
    }
   ],
   "source": [
    "test.lstrip()"
   ]
  },
  {
   "cell_type": "code",
   "execution_count": 29,
   "id": "0839dcc0-0b5f-4801-96cc-447fe343deba",
   "metadata": {},
   "outputs": [
    {
     "data": {
      "text/plain": [
       "'  ramesh  suresh'"
      ]
     },
     "execution_count": 29,
     "metadata": {},
     "output_type": "execute_result"
    }
   ],
   "source": [
    "test.rstrip()"
   ]
  },
  {
   "cell_type": "code",
   "execution_count": null,
   "id": "d391eadb-4420-4bee-b97e-93f34f2aff9d",
   "metadata": {},
   "outputs": [],
   "source": [
    "#strip lstrip and rstrip functions removes emptyspaces before the first str chr or after the last str chr or both but does not remove spaces in between strings"
   ]
  }
 ],
 "metadata": {
  "kernelspec": {
   "display_name": "Python [conda env:base] *",
   "language": "python",
   "name": "conda-base-py"
  },
  "language_info": {
   "codemirror_mode": {
    "name": "ipython",
    "version": 3
   },
   "file_extension": ".py",
   "mimetype": "text/x-python",
   "name": "python",
   "nbconvert_exporter": "python",
   "pygments_lexer": "ipython3",
   "version": "3.13.5"
  }
 },
 "nbformat": 4,
 "nbformat_minor": 5
}
