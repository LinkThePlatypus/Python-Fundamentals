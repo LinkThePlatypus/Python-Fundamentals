{
 "cells": [
  {
   "cell_type": "code",
   "execution_count": 1,
   "id": "cd135f14-4f23-4018-aceb-7660b658f62d",
   "metadata": {},
   "outputs": [
    {
     "ename": "SyntaxError",
     "evalue": "invalid syntax (2879019193.py, line 1)",
     "output_type": "error",
     "traceback": [
      "\u001b[1;36m  Cell \u001b[1;32mIn[1], line 1\u001b[1;36m\u001b[0m\n\u001b[1;33m    Getting started with python :\u001b[0m\n\u001b[1;37m            ^\u001b[0m\n\u001b[1;31mSyntaxError\u001b[0m\u001b[1;31m:\u001b[0m invalid syntax\n"
     ]
    }
   ],
   "source": [
    "Getting started with python :"
   ]
  },
  {
   "cell_type": "code",
   "execution_count": null,
   "id": "e5e725ca-1593-4518-a0c7-1bc60217110c",
   "metadata": {},
   "outputs": [],
   "source": []
  },
  {
   "cell_type": "code",
   "execution_count": null,
   "id": "9d312104-6210-4a86-a8be-51788a138efc",
   "metadata": {},
   "outputs": [],
   "source": [
    "Introduction to list datatype:\n",
    "\n",
    "    1. String =====>\n",
    "\n",
    "    2. Numbers ====> integers (int) and float (decimals) = 0.1,0.2\n",
    "\n",
    "    3. list datatype \n",
    "\n",
    "    4. tuples\n",
    "\n",
    "    5. Dictionaries"
   ]
  },
  {
   "cell_type": "code",
   "execution_count": null,
   "id": "d40a346a-cee0-44a5-af8b-1ae16dd7de51",
   "metadata": {},
   "outputs": [],
   "source": []
  },
  {
   "cell_type": "code",
   "execution_count": null,
   "id": "0a242503-28cf-459a-a664-89c610d6a370",
   "metadata": {},
   "outputs": [],
   "source": [
    "Introduction to Numbers:"
   ]
  },
  {
   "cell_type": "code",
   "execution_count": 1,
   "id": "ea38074d-23c9-4aac-992e-39dfc53f3c56",
   "metadata": {},
   "outputs": [
    {
     "name": "stdout",
     "output_type": "stream",
     "text": [
      "123\n"
     ]
    }
   ],
   "source": [
    "number = 123\n",
    "\n",
    "print(number)"
   ]
  },
  {
   "cell_type": "code",
   "execution_count": 2,
   "id": "8294cb9e-c713-4161-9902-376ace62c8d0",
   "metadata": {},
   "outputs": [
    {
     "data": {
      "text/plain": [
       "int"
      ]
     },
     "execution_count": 2,
     "metadata": {},
     "output_type": "execute_result"
    }
   ],
   "source": [
    "type(number)"
   ]
  },
  {
   "cell_type": "code",
   "execution_count": 3,
   "id": "1917a8eb-8b38-4b75-bfe2-0d70b5101b58",
   "metadata": {},
   "outputs": [
    {
     "name": "stdout",
     "output_type": "stream",
     "text": [
      "0.1\n"
     ]
    }
   ],
   "source": [
    "num2 = 0.1\n",
    "\n",
    "print(num2)"
   ]
  },
  {
   "cell_type": "code",
   "execution_count": 4,
   "id": "54b7099d-968d-4e4a-9142-3b194bf6b20e",
   "metadata": {},
   "outputs": [
    {
     "data": {
      "text/plain": [
       "float"
      ]
     },
     "execution_count": 4,
     "metadata": {},
     "output_type": "execute_result"
    }
   ],
   "source": [
    "type(num2)"
   ]
  },
  {
   "cell_type": "code",
   "execution_count": null,
   "id": "b9f5ab65-1805-4dae-bdf8-9fff848cfa92",
   "metadata": {},
   "outputs": [],
   "source": []
  },
  {
   "cell_type": "code",
   "execution_count": null,
   "id": "c780b65d-b428-4ebe-a6bc-6e43d3735391",
   "metadata": {},
   "outputs": [],
   "source": [
    "Introduction to list datatype: \n",
    "\n",
    "definition : A list is a collection of items defined in a particular order.\n",
    "\n",
    "classification : It is classified as mutable datatype (which we can edit/alter)\n",
    "\n",
    "how to define the list datatype : [] #square brackets"
   ]
  },
  {
   "cell_type": "code",
   "execution_count": null,
   "id": "8ed9ff46-1c24-4322-b461-04a432cf8547",
   "metadata": {},
   "outputs": [],
   "source": []
  },
  {
   "cell_type": "code",
   "execution_count": 5,
   "id": "82428784-d5c8-4f86-8f2d-d1c88e5cebfb",
   "metadata": {},
   "outputs": [],
   "source": [
    "students = ['arpita','ashwini','asna','bhuvan','david','karthik']"
   ]
  },
  {
   "cell_type": "code",
   "execution_count": 6,
   "id": "6a0be854-bb21-452e-a67b-90961b8a76e4",
   "metadata": {},
   "outputs": [
    {
     "name": "stdout",
     "output_type": "stream",
     "text": [
      "['arpita', 'ashwini', 'asna', 'bhuvan', 'david', 'karthik']\n"
     ]
    }
   ],
   "source": [
    "print(students)"
   ]
  },
  {
   "cell_type": "code",
   "execution_count": null,
   "id": "568d521c-011b-451b-8ba0-6ba6475a6c6d",
   "metadata": {},
   "outputs": [],
   "source": []
  },
  {
   "cell_type": "code",
   "execution_count": 7,
   "id": "f18183d2-636f-4a78-b5cc-3a600beea1d2",
   "metadata": {},
   "outputs": [
    {
     "data": {
      "text/plain": [
       "list"
      ]
     },
     "execution_count": 7,
     "metadata": {},
     "output_type": "execute_result"
    }
   ],
   "source": [
    "type(students)"
   ]
  },
  {
   "cell_type": "code",
   "execution_count": null,
   "id": "a0645771-65e1-4a6e-8180-74e44a354df1",
   "metadata": {},
   "outputs": [],
   "source": []
  },
  {
   "cell_type": "code",
   "execution_count": null,
   "id": "1f47ed35-d598-4e99-8765-0736ef5ff8cb",
   "metadata": {},
   "outputs": [],
   "source": [
    "Introduction to indexing : 0,1,2,3,4,5,6........"
   ]
  },
  {
   "cell_type": "code",
   "execution_count": null,
   "id": "c33d9590-cde7-4afd-a00b-3b4cb5eb9fa4",
   "metadata": {},
   "outputs": [],
   "source": []
  },
  {
   "cell_type": "code",
   "execution_count": null,
   "id": "f45d33f3-2468-4a80-b894-7f00d7965e56",
   "metadata": {},
   "outputs": [],
   "source": [
    "#req : i want to access particular name in the output ?"
   ]
  },
  {
   "cell_type": "code",
   "execution_count": 8,
   "id": "43d7c966-347a-4ac3-bf72-a8cfcef0bd47",
   "metadata": {},
   "outputs": [
    {
     "name": "stdout",
     "output_type": "stream",
     "text": [
      "ashwini\n"
     ]
    }
   ],
   "source": [
    "print(students[1])"
   ]
  },
  {
   "cell_type": "code",
   "execution_count": 9,
   "id": "00924455-e02a-446b-a1e0-643c043fb4a3",
   "metadata": {},
   "outputs": [
    {
     "name": "stdout",
     "output_type": "stream",
     "text": [
      "Ashwini\n"
     ]
    }
   ],
   "source": [
    "print(students[1].title())"
   ]
  },
  {
   "cell_type": "code",
   "execution_count": 10,
   "id": "ffec7c23-78b1-4cc7-923f-dfdd7d2d691c",
   "metadata": {},
   "outputs": [
    {
     "name": "stdout",
     "output_type": "stream",
     "text": [
      "Bhuvan\n"
     ]
    }
   ],
   "source": [
    "print(students[3].title())"
   ]
  },
  {
   "cell_type": "code",
   "execution_count": null,
   "id": "9786defa-e5f3-4b4d-b66c-3ff315625635",
   "metadata": {},
   "outputs": [],
   "source": []
  },
  {
   "cell_type": "code",
   "execution_count": null,
   "id": "31a62539-9fbc-4a78-9c11-cdb2cb55ef8e",
   "metadata": {},
   "outputs": [],
   "source": [
    "how to add new elements to the list\n",
    "\n",
    "how to modify the elements in the list\n",
    "\n",
    "how to delete the elements in the list"
   ]
  },
  {
   "cell_type": "code",
   "execution_count": null,
   "id": "65b98df4-3e8a-4c47-9215-1c3b619cb5c6",
   "metadata": {},
   "outputs": [],
   "source": []
  },
  {
   "cell_type": "code",
   "execution_count": 11,
   "id": "1c7d03dd-4d46-45de-aeda-59f873e51954",
   "metadata": {},
   "outputs": [
    {
     "name": "stdout",
     "output_type": "stream",
     "text": [
      "['arpita', 'ashwini', 'asna', 'bhuvan', 'david', 'karthik']\n"
     ]
    }
   ],
   "source": [
    "print(students)"
   ]
  },
  {
   "cell_type": "code",
   "execution_count": 12,
   "id": "e7aa66c9-0605-471d-a2b0-f04f3bd244a2",
   "metadata": {},
   "outputs": [],
   "source": [
    "#req: i want to add another name in the list"
   ]
  },
  {
   "cell_type": "code",
   "execution_count": 13,
   "id": "bcebf870-c421-4c05-8e20-734aa6509b80",
   "metadata": {},
   "outputs": [],
   "source": [
    "students.append('shafi')"
   ]
  },
  {
   "cell_type": "code",
   "execution_count": 14,
   "id": "71017a73-a9b5-466a-b604-4ffd969a56c6",
   "metadata": {},
   "outputs": [
    {
     "name": "stdout",
     "output_type": "stream",
     "text": [
      "['arpita', 'ashwini', 'asna', 'bhuvan', 'david', 'karthik', 'shafi']\n"
     ]
    }
   ],
   "source": [
    "print(students)"
   ]
  },
  {
   "cell_type": "code",
   "execution_count": 15,
   "id": "6123af20-808b-407f-a4b2-45a96e93928b",
   "metadata": {},
   "outputs": [],
   "source": [
    "students+='ram'"
   ]
  },
  {
   "cell_type": "code",
   "execution_count": 16,
   "id": "97e3e6f4-8db4-4f35-91d7-8c37cb90a3da",
   "metadata": {},
   "outputs": [
    {
     "name": "stdout",
     "output_type": "stream",
     "text": [
      "['arpita', 'ashwini', 'asna', 'bhuvan', 'david', 'karthik', 'shafi', 'r', 'a', 'm']\n"
     ]
    }
   ],
   "source": [
    "print(students)"
   ]
  },
  {
   "cell_type": "code",
   "execution_count": 17,
   "id": "1de6757c-365b-4dbd-ba68-47a27311b88e",
   "metadata": {},
   "outputs": [],
   "source": [
    "students=students+['ram']"
   ]
  },
  {
   "cell_type": "code",
   "execution_count": 18,
   "id": "98aa3656-7b17-49dc-894c-bace88860c2f",
   "metadata": {},
   "outputs": [
    {
     "name": "stdout",
     "output_type": "stream",
     "text": [
      "['arpita', 'ashwini', 'asna', 'bhuvan', 'david', 'karthik', 'shafi', 'r', 'a', 'm', 'ram']\n"
     ]
    }
   ],
   "source": [
    "print(students)\n"
   ]
  },
  {
   "cell_type": "code",
   "execution_count": 19,
   "id": "bdc67b8d-9986-4b45-ad54-8d04a78c5024",
   "metadata": {},
   "outputs": [],
   "source": [
    "students+=['abcd']"
   ]
  },
  {
   "cell_type": "code",
   "execution_count": 20,
   "id": "7b3e68ab-86a7-4fe4-882b-6ae9e29b476e",
   "metadata": {},
   "outputs": [
    {
     "name": "stdout",
     "output_type": "stream",
     "text": [
      "['arpita', 'ashwini', 'asna', 'bhuvan', 'david', 'karthik', 'shafi', 'r', 'a', 'm', 'ram', 'abcd']\n"
     ]
    }
   ],
   "source": [
    "print(students)"
   ]
  },
  {
   "cell_type": "code",
   "execution_count": null,
   "id": "f0d7d0b5-fbae-4462-a79d-a4f48591066b",
   "metadata": {},
   "outputs": [],
   "source": [
    "# i want to add a name at a particular index number"
   ]
  },
  {
   "cell_type": "code",
   "execution_count": 22,
   "id": "709881b2-0022-4b99-992f-699196c6275c",
   "metadata": {},
   "outputs": [],
   "source": [
    "students.insert(2,'kaleem')"
   ]
  },
  {
   "cell_type": "code",
   "execution_count": 24,
   "id": "302c4767-759d-45b9-afc9-3e781f638c44",
   "metadata": {},
   "outputs": [],
   "source": [
    "# Append adds elements to the end of the list while insert adds elements at the mentioned index. Append has one argument while insert has 2 arguments."
   ]
  },
  {
   "cell_type": "code",
   "execution_count": null,
   "id": "743d3e1d-bb34-41d8-be9c-5a39c720cd04",
   "metadata": {},
   "outputs": [],
   "source": [
    "#i want to delete a particular name from the given list"
   ]
  },
  {
   "cell_type": "code",
   "execution_count": 25,
   "id": "b85554d4-de0d-41e4-b3ed-a59c4c069445",
   "metadata": {},
   "outputs": [
    {
     "data": {
      "text/plain": [
       "'abcd'"
      ]
     },
     "execution_count": 25,
     "metadata": {},
     "output_type": "execute_result"
    }
   ],
   "source": [
    "students.pop()\n"
   ]
  },
  {
   "cell_type": "code",
   "execution_count": 26,
   "id": "203d7a43-4b16-4e19-a2fa-f667f04f54ab",
   "metadata": {},
   "outputs": [
    {
     "name": "stdout",
     "output_type": "stream",
     "text": [
      "['arpita', 'ashwini', 'kaleem', 'asna', 'bhuvan', 'david', 'karthik', 'shafi', 'r', 'a', 'm', 'ram']\n"
     ]
    }
   ],
   "source": [
    "print(students)"
   ]
  },
  {
   "cell_type": "code",
   "execution_count": 31,
   "id": "ad2a898d-18d0-4a05-8a35-135da52e4abf",
   "metadata": {},
   "outputs": [],
   "source": [
    "students.remove('ashwini')"
   ]
  },
  {
   "cell_type": "code",
   "execution_count": 32,
   "id": "8a070c50-4827-4fca-bc8d-26c1ea605fb7",
   "metadata": {},
   "outputs": [
    {
     "name": "stdout",
     "output_type": "stream",
     "text": [
      "['arpita', 'kaleem', 'asna', 'bhuvan', 'david', 'karthik', 'shafi', 'r', 'a', 'm', 'ram']\n"
     ]
    }
   ],
   "source": [
    "print(students)"
   ]
  },
  {
   "cell_type": "code",
   "execution_count": 33,
   "id": "d376bb0f-a597-479e-ace1-77a8121ae826",
   "metadata": {},
   "outputs": [],
   "source": [
    "del students[1]"
   ]
  },
  {
   "cell_type": "code",
   "execution_count": 34,
   "id": "6305def4-64d1-449f-94b7-95066d9063a1",
   "metadata": {},
   "outputs": [
    {
     "name": "stdout",
     "output_type": "stream",
     "text": [
      "['arpita', 'asna', 'bhuvan', 'david', 'karthik', 'shafi', 'r', 'a', 'm', 'ram']\n"
     ]
    }
   ],
   "source": [
    "print(students)"
   ]
  },
  {
   "cell_type": "code",
   "execution_count": 35,
   "id": "604c0cab-579b-4f53-95d2-946cc4a91db4",
   "metadata": {},
   "outputs": [],
   "source": [
    "# Pop removes the last element from the list. It can be stored in a separate variable.\n",
    "# remove function needs the exact argument needed to be removed\n",
    "# del funtion requires list variable to delete the variable entirely or variable[index] to delete a particular element"
   ]
  },
  {
   "cell_type": "code",
   "execution_count": 36,
   "id": "a1370ad6-937f-4c7f-946b-7728481519dd",
   "metadata": {},
   "outputs": [],
   "source": [
    "del students"
   ]
  },
  {
   "cell_type": "code",
   "execution_count": 37,
   "id": "95f3bd8e-bc63-4a09-8793-b8d00ec0e9b5",
   "metadata": {},
   "outputs": [
    {
     "ename": "NameError",
     "evalue": "name 'students' is not defined",
     "output_type": "error",
     "traceback": [
      "\u001b[1;31m---------------------------------------------------------------------------\u001b[0m",
      "\u001b[1;31mNameError\u001b[0m                                 Traceback (most recent call last)",
      "Cell \u001b[1;32mIn[37], line 1\u001b[0m\n\u001b[1;32m----> 1\u001b[0m \u001b[38;5;28mprint\u001b[39m(students)\n",
      "\u001b[1;31mNameError\u001b[0m: name 'students' is not defined"
     ]
    }
   ],
   "source": [
    "print(students)"
   ]
  },
  {
   "cell_type": "code",
   "execution_count": null,
   "id": "9484d280-f453-47ad-b3dc-372352697145",
   "metadata": {},
   "outputs": [],
   "source": []
  }
 ],
 "metadata": {
  "kernelspec": {
   "display_name": "Python [conda env:base] *",
   "language": "python",
   "name": "conda-base-py"
  },
  "language_info": {
   "codemirror_mode": {
    "name": "ipython",
    "version": 3
   },
   "file_extension": ".py",
   "mimetype": "text/x-python",
   "name": "python",
   "nbconvert_exporter": "python",
   "pygments_lexer": "ipython3",
   "version": "3.13.5"
  }
 },
 "nbformat": 4,
 "nbformat_minor": 5
}
